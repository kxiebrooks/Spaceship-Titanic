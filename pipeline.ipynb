{
 "cells": [
  {
   "cell_type": "markdown",
   "id": "74f894a1",
   "metadata": {},
   "source": [
    "## Pipeline model - Spaceship Titanic Kaggle Competition"
   ]
  },
  {
   "cell_type": "markdown",
   "id": "77c0a7ae",
   "metadata": {},
   "source": [
    "### Importing Libraries"
   ]
  },
  {
   "cell_type": "code",
   "execution_count": 91,
   "id": "60de2481",
   "metadata": {},
   "outputs": [],
   "source": [
    "import pandas as pd\n",
    "from sklearn.compose import ColumnTransformer\n",
    "from sklearn.pipeline import Pipeline\n",
    "from sklearn.preprocessing import OneHotEncoder\n",
    "from sklearn.impute import SimpleImputer\n",
    "from xgboost import XGBClassifier\n",
    "from sklearn.metrics import accuracy_score\n",
    "from sklearn.model_selection import train_test_split"
   ]
  },
  {
   "cell_type": "markdown",
   "id": "9478da35",
   "metadata": {},
   "source": [
    "### Loading and Combining Data"
   ]
  },
  {
   "cell_type": "code",
   "execution_count": 92,
   "id": "36be1ab9",
   "metadata": {},
   "outputs": [],
   "source": [
    "train_path = 'train.csv'\n",
    "test_path = 'test.csv'\n",
    "\n",
    "train_data = pd.read_csv(train_path)\n",
    "test_data = pd.read_csv(test_path)\n",
    "\n",
    "y = train_data['Transported']\n",
    "train_data = train_data.drop(columns=['Transported'])\n",
    "\n",
    "combined = pd.concat([train_data, test_data], keys=['train', 'test'])"
   ]
  },
  {
   "cell_type": "markdown",
   "id": "bc0e18dd",
   "metadata": {},
   "source": [
    "### Calculating Total Spending"
   ]
  },
  {
   "cell_type": "code",
   "execution_count": 93,
   "id": "9973abcf",
   "metadata": {},
   "outputs": [],
   "source": [
    "spend_cols = ['RoomService', 'FoodCourt', 'ShoppingMall', 'Spa', 'VRDeck']\n",
    "\n",
    "combined['TotalSpending'] = combined[spend_cols].sum(axis=1)"
   ]
  },
  {
   "cell_type": "markdown",
   "id": "6699895b",
   "metadata": {},
   "source": [
    "### Splitting the Cabin Column in to deck and side"
   ]
  },
  {
   "cell_type": "code",
   "execution_count": 94,
   "id": "5cd9b3b1",
   "metadata": {},
   "outputs": [],
   "source": [
    "cabin_split = combined['Cabin'].str.split('/', expand=True)\n",
    "\n",
    "combined['Deck'] = cabin_split[0]\n",
    "combined['Side'] = cabin_split[2]"
   ]
  },
  {
   "cell_type": "markdown",
   "id": "0df305a3",
   "metadata": {},
   "source": [
    "### Selecting Features and filling Unknown for Missing Values"
   ]
  },
  {
   "cell_type": "code",
   "execution_count": 95,
   "id": "f3084f83",
   "metadata": {},
   "outputs": [],
   "source": [
    "features = [\n",
    "    'CryoSleep', 'Age', 'VIP', 'RoomService', 'FoodCourt',\n",
    "    'ShoppingMall', 'Spa', 'VRDeck', 'Deck', 'Side', 'TotalSpending'\n",
    "]\n",
    "\n",
    "X_train_full = combined.loc['train', features]\n",
    "X_test_full = combined.loc['test', features]\n",
    "\n",
    "X_train_full = (\n",
    "    X_train_full.fillna({'Deck': 'Unknown', 'Side': 'Unknown'})\n",
    "    .fillna(0)\n",
    ")\n",
    "\n",
    "X_test_full = (\n",
    "    X_test_full.fillna({'Deck': 'Unknown', 'Side': 'Unknown'})\n",
    "    .fillna(0)\n",
    ")"
   ]
  },
  {
   "cell_type": "markdown",
   "id": "e57c5be0",
   "metadata": {},
   "source": [
    "### Splitting the Training Data for Validation"
   ]
  },
  {
   "cell_type": "code",
   "execution_count": 96,
   "id": "32a8657e",
   "metadata": {},
   "outputs": [],
   "source": [
    "X_train, X_valid, y_train, y_valid = train_test_split(\n",
    "    X_train_full, y, test_size=0.2, random_state=0\n",
    ")"
   ]
  },
  {
   "cell_type": "markdown",
   "id": "648925c9",
   "metadata": {},
   "source": [
    "### Defining Categorical and Numerical Columns"
   ]
  },
  {
   "cell_type": "code",
   "execution_count": 97,
   "id": "3f6f03a0",
   "metadata": {},
   "outputs": [],
   "source": [
    "categorical_cols = ['Deck', 'Side']\n",
    "\n",
    "numerical_cols = [\n",
    "    'CryoSleep', 'VIP', 'TotalSpending', 'Age', 'Spa',\n",
    "    'VRDeck', 'RoomService', 'FoodCourt', 'ShoppingMall'\n",
    "]"
   ]
  },
  {
   "cell_type": "markdown",
   "id": "0222a484",
   "metadata": {},
   "source": [
    "### Creating a Pipeline model"
   ]
  },
  {
   "cell_type": "code",
   "execution_count": 98,
   "id": "86bb1357",
   "metadata": {},
   "outputs": [],
   "source": [
    "numerical_transformer = SimpleImputer(strategy='constant', fill_value=0)\n",
    "\n",
    "categorical_transformer = Pipeline(steps=[\n",
    "    ('imputer', SimpleImputer(strategy='most_frequent')),\n",
    "    ('onehot', OneHotEncoder(handle_unknown='ignore'))\n",
    "])\n",
    "\n",
    "preprocessor = ColumnTransformer(transformers=[\n",
    "    ('num', numerical_transformer, numerical_cols),\n",
    "    ('cat', categorical_transformer, categorical_cols)\n",
    "])"
   ]
  },
  {
   "cell_type": "markdown",
   "id": "d7228a85",
   "metadata": {},
   "source": [
    "### Training the XGBoost Model Pipeline"
   ]
  },
  {
   "cell_type": "code",
   "execution_count": 99,
   "id": "2afb8504",
   "metadata": {},
   "outputs": [
    {
     "name": "stdout",
     "output_type": "stream",
     "text": [
      "Validation Accuracy: 0.7935595169637722\n"
     ]
    }
   ],
   "source": [
    "xgb_model = XGBClassifier(\n",
    "    n_estimators=1310,\n",
    "    learning_rate=0.05,\n",
    "    n_jobs=4,\n",
    "    random_state=0\n",
    ")\n",
    "\n",
    "my_pipeline = Pipeline(steps=[\n",
    "    ('preprocessor', preprocessor),\n",
    "    ('model', xgb_model)\n",
    "])\n",
    "\n",
    "my_pipeline.fit(X_train, y_train)\n",
    "\n",
    "preds = my_pipeline.predict(X_valid)\n",
    "score = accuracy_score(y_valid, preds)\n",
    "\n",
    "print('Validation Accuracy:', score)"
   ]
  },
  {
   "cell_type": "markdown",
   "id": "14e46ea4",
   "metadata": {},
   "source": [
    "### Training on Full Data and getting Submission CSV file"
   ]
  },
  {
   "cell_type": "code",
   "execution_count": 100,
   "id": "d0bd99a1",
   "metadata": {},
   "outputs": [],
   "source": [
    "my_pipeline.fit(X_train_full, y)\n",
    "\n",
    "test_preds = my_pipeline.predict(X_test_full)\n",
    "test_preds_bool = test_preds.astype(bool)\n",
    "\n",
    "output = pd.DataFrame({\n",
    "    'PassengerId': test_data['PassengerId'],\n",
    "    'Transported': test_preds_bool\n",
    "})\n",
    "\n",
    "submission_file_name = f'submission_{pd.Timestamp.now().strftime(\"%Y-%m-%d_%H-%M-%S\")}.csv'\n",
    "output.to_csv(submission_file_name, index=False)"
   ]
  }
 ],
 "metadata": {
  "kernelspec": {
   "display_name": ".venv",
   "language": "python",
   "name": "python3"
  },
  "language_info": {
   "codemirror_mode": {
    "name": "ipython",
    "version": 3
   },
   "file_extension": ".py",
   "mimetype": "text/x-python",
   "name": "python",
   "nbconvert_exporter": "python",
   "pygments_lexer": "ipython3",
   "version": "3.14.0"
  }
 },
 "nbformat": 4,
 "nbformat_minor": 5
}
